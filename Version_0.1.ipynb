{
 "cells": [
  {
   "cell_type": "code",
   "execution_count": 1,
   "id": "ec182d38",
   "metadata": {},
   "outputs": [],
   "source": [
    "import pandas as pd\n",
    "import numpy as np\n",
    "import matplotlib.pyplot as plt\n",
    "import datetime\n",
    "\n",
    "from Underlying import Underlying\n",
    "from Monte_Carlo import Monte_Carlo\n",
    "\n",
    "import importlib # https://docs.python.org/3/library/importlib.html\n",
    "import OrderEngine\n",
    "importlib.reload(OrderEngine)\n",
    "from OrderEngine import Order, OrderBook"
   ]
  },
  {
   "cell_type": "code",
   "execution_count": 2,
   "id": "aff76f49",
   "metadata": {},
   "outputs": [],
   "source": [
    "stock = Underlying( \n",
    "        spot        = 100,\n",
    "        strike      = 100,\n",
    "        r           = 0.05,\n",
    "        sigma       = 0.2,\n",
    "        horizon     = 1,\n",
    "        timesteps   = 252,\n",
    "        n           = 20000, \n",
    "        seed        = 42,\n",
    "        samples     = None  # set to None\n",
    "    )  "
   ]
  },
  {
   "cell_type": "code",
   "execution_count": 3,
   "id": "9af1ef08",
   "metadata": {},
   "outputs": [],
   "source": [
    "S = stock.monte_carlo.Generate_Single_Random_Path()"
   ]
  },
  {
   "cell_type": "code",
   "execution_count": 4,
   "id": "4c412a10",
   "metadata": {},
   "outputs": [
    {
     "data": {
      "text/plain": [
       "array([100.        , 100.63974344, 100.47654577, 101.31185987,\n",
       "       103.28693597, 102.99494338, 102.7037975 , 104.78015066,\n",
       "       105.81075499, 105.19927351, 105.93344888, 105.32929543,\n",
       "       104.72553693, 105.05777948, 102.56784293, 100.37484093,\n",
       "        99.67814828,  98.42600554,  98.82822528,  97.71570219,\n",
       "        96.00381767,  97.80468155,  97.5384811 ,  97.63312205,\n",
       "        95.90764612,  95.26344689,  95.40802741,  94.04567902,\n",
       "        94.50313504,  93.8018633 ,  93.46890108,  92.77405575,\n",
       "        94.97584426,  94.97100048,  93.72497814,  94.71258349,\n",
       "        93.27804203,  93.53495472,  91.26476052,  89.76096699,\n",
       "        89.99458311,  90.84659664,  91.05378883,  90.9320418 ,\n",
       "        90.59852493,  88.93709777,  88.14465011,  87.6450172 ,\n",
       "        88.83069873,  89.22671835,  87.27703391,  87.64455428,\n",
       "        87.23075346,  86.5002737 ,  87.17983225,  88.33014508,\n",
       "        89.38326905,  88.45371476,  88.12028499,  88.49936091,\n",
       "        89.60445964,  89.07574821,  88.87821622,  87.65841492,\n",
       "        86.35751872,  87.25647621,  88.77080737,  88.70086626,\n",
       "        89.84015441,  90.26116148,  89.54117408,  89.96050758,\n",
       "        91.73163068,  91.70115167,  93.53789451,  90.51177971,\n",
       "        91.46478645,  91.57605125,  91.24258212,  91.359002  ,\n",
       "        89.11029348,  88.87459197,  89.28598567,  90.97486892,\n",
       "        90.39353589,  89.488108  ,  88.93477608,  89.97710762,\n",
       "        90.36131103,  89.77090248,  90.36404955,  90.48540945,\n",
       "        91.60734404,  90.81145677,  90.44811272,  90.01310721,\n",
       "        88.37912399,  88.72002282,  89.02289957,  89.0392342 ,\n",
       "        88.78703471,  87.22820114,  86.77747652,  86.41388349,\n",
       "        85.5550181 ,  85.3915111 ,  85.83752835,  87.91224143,\n",
       "        88.11630431,  88.41321588,  88.34084545,  86.24114458,\n",
       "        86.22260509,  86.29833116,  89.02909634,  88.82416743,\n",
       "        89.17287984,  89.14450245,  87.85201617,  89.13668929,\n",
       "        89.99584833,  90.9080588 ,  89.88315019,  91.49671686,\n",
       "        89.90562191,  90.58360412,  93.12935318,  91.98530942,\n",
       "        91.34223267,  91.46787226,  90.90033062,  89.15230178,\n",
       "        89.23996907,  88.06404218,  88.60161215,  87.5916299 ,\n",
       "        89.32950442,  88.46286095,  88.11513112,  89.03349691,\n",
       "        87.67390298,  87.93598064,  89.40678332,  87.62472596,\n",
       "        87.83924947,  88.13781743,  89.02086554,  87.65474275,\n",
       "        86.21882817,  86.79799057,  87.13373951,  87.41956688,\n",
       "        87.81242626,  87.07367167,  87.33922986,  87.67275099,\n",
       "        86.89758226,  88.97503339,  89.51843556,  88.19538367,\n",
       "        88.93853097,  87.86351818,  88.74970126,  90.06539721,\n",
       "        89.14956496,  90.24894527,  90.73031263,  91.68580243,\n",
       "        93.91441924,  93.63566825,  92.76173779,  91.73889697,\n",
       "        90.81162171,  90.73425207,  91.13592612,  91.46506624,\n",
       "        92.43425977,  92.46040906,  94.18042886,  93.87809542,\n",
       "        97.1627144 ,  97.94330163,  96.90282128,  95.61557299,\n",
       "        96.21000294,  95.95093951,  96.82949249,  97.42013398,\n",
       "        97.34237403,  96.32085352,  94.51122488,  93.99222793,\n",
       "        95.0231699 ,  95.29116802,  93.81843248,  94.03454994,\n",
       "        94.50340424,  93.46802023,  93.66036961,  93.74024055,\n",
       "        92.41104758,  92.83960054,  93.5089868 ,  94.80496278,\n",
       "        96.08348639,  94.44139737,  93.34320448,  93.96204774,\n",
       "        94.58350503,  95.21058609,  99.95799381, 100.69152425,\n",
       "       102.1546108 , 103.40215444, 104.26665455, 103.86569105,\n",
       "       104.87611467, 103.87228944, 103.57516407, 102.95598984,\n",
       "       103.07451555, 106.13726222, 103.68183183, 104.59460929,\n",
       "       102.5030702 , 101.90754863, 103.32760294, 103.42362852,\n",
       "       102.04094878, 101.13752854, 102.01934312, 101.09692668,\n",
       "       101.38507553, 101.45537991, 100.63788226, 103.40558293,\n",
       "       104.24716132, 101.63310107, 101.88425675, 101.0503344 ,\n",
       "       102.15358859, 101.15071943, 101.01663239, 101.67347671,\n",
       "       102.80078689, 101.26995185, 100.85607192, 100.2663123 ,\n",
       "        99.45622943, 101.70529052, 102.23771695, 100.63841696])"
      ]
     },
     "execution_count": 4,
     "metadata": {},
     "output_type": "execute_result"
    }
   ],
   "source": [
    "S"
   ]
  },
  {
   "cell_type": "markdown",
   "id": "2f53a6d0",
   "metadata": {},
   "source": [
    "A stochastic stock path has been simulated.  "
   ]
  },
  {
   "cell_type": "code",
   "execution_count": 5,
   "id": "2dbd784f",
   "metadata": {},
   "outputs": [],
   "source": [
    "Buy50at99 = Order(\n",
    "    order_id=0,\n",
    "    side = 'buy',\n",
    "    price = 99,\n",
    "    quantity=50,\n",
    "    timestamp= datetime.datetime.now(),\n",
    "    order_type='limit'\n",
    ")\n",
    "\n",
    "Buy50at9950 = Order(\n",
    "    order_id=0,\n",
    "    side = 'buy',\n",
    "    price = 99.50,\n",
    "    quantity=50,\n",
    "    timestamp= datetime.datetime.now(),\n",
    "    order_type='limit'\n",
    ")\n",
    "\n",
    "Buy50at9975 = Order(\n",
    "    order_id=0,\n",
    "    side = 'buy',\n",
    "    price = 99.75,\n",
    "    quantity=50,\n",
    "    timestamp= datetime.datetime.now(),\n",
    "    order_type='limit'\n",
    ")\n",
    "\n",
    "Buy100at100 = Order(\n",
    "    order_id=0,\n",
    "    side = 'buy',\n",
    "    price = 100,\n",
    "    quantity=100,\n",
    "    timestamp= datetime.datetime.now(),\n",
    "    order_type='limit'\n",
    ")\n",
    "\n",
    "Sell50at100 = Order(\n",
    "    order_id=0,\n",
    "    side = 'sell',\n",
    "    price = 100,\n",
    "    quantity=50,\n",
    "    timestamp= datetime.datetime.now(),\n",
    "    order_type='limit'\n",
    ")\n",
    "\n",
    "\n",
    "\n",
    "Sell50at10025 = Order(\n",
    "    order_id=0,\n",
    "    side = 'sell',\n",
    "    price = 100.25,\n",
    "    quantity=50,\n",
    "    timestamp= datetime.datetime.now(),\n",
    "    order_type='limit'\n",
    ")\n",
    "\n",
    "Sell50at10050 = Order(\n",
    "    order_id=0,\n",
    "    side = 'sell',\n",
    "    price = 100.50,\n",
    "    quantity=50,\n",
    "    timestamp= datetime.datetime.now(),\n",
    "    order_type='limit'\n",
    ")"
   ]
  },
  {
   "cell_type": "code",
   "execution_count": 6,
   "id": "95935407",
   "metadata": {},
   "outputs": [
    {
     "name": "stdout",
     "output_type": "stream",
     "text": [
      "OrderBook initialized.\n"
     ]
    }
   ],
   "source": [
    "Book1 = OrderBook()"
   ]
  },
  {
   "cell_type": "code",
   "execution_count": 7,
   "id": "deceb053",
   "metadata": {},
   "outputs": [
    {
     "name": "stdout",
     "output_type": "stream",
     "text": [
      "Order added: 0 - buy 50 at 99\n",
      "\n",
      "Current Order Book (Market Depth):\n",
      "  Bid Size |      Price |   Ask Size | Orders\n",
      "--------------------------------------------------\n",
      "        50 |         99 |          0 |      1\n",
      "\n",
      "\n",
      "Order added: 0 - buy 50 at 99.5\n",
      "\n",
      "Current Order Book (Market Depth):\n",
      "  Bid Size |      Price |   Ask Size | Orders\n",
      "--------------------------------------------------\n",
      "        50 |       99.5 |          0 |      1\n",
      "        50 |         99 |          0 |      1\n",
      "\n",
      "\n",
      "Order added: 0 - sell 50 at 100.5\n",
      "\n",
      "Current Order Book (Market Depth):\n",
      "  Bid Size |      Price |   Ask Size | Orders\n",
      "--------------------------------------------------\n",
      "         0 |      100.5 |         50 |      1\n",
      "        50 |       99.5 |          0 |      1\n",
      "        50 |         99 |          0 |      1\n",
      "\n",
      "\n",
      "Order added: 0 - sell 50 at 100.25\n",
      "\n",
      "Current Order Book (Market Depth):\n",
      "  Bid Size |      Price |   Ask Size | Orders\n",
      "--------------------------------------------------\n",
      "         0 |      100.5 |         50 |      1\n",
      "         0 |     100.25 |         50 |      1\n",
      "        50 |       99.5 |          0 |      1\n",
      "        50 |         99 |          0 |      1\n",
      "\n",
      "\n",
      "Order added: 0 - sell 50 at 100\n",
      "\n",
      "Current Order Book (Market Depth):\n",
      "  Bid Size |      Price |   Ask Size | Orders\n",
      "--------------------------------------------------\n",
      "         0 |      100.5 |         50 |      1\n",
      "         0 |     100.25 |         50 |      1\n",
      "         0 |        100 |         50 |      1\n",
      "        50 |       99.5 |          0 |      1\n",
      "        50 |         99 |          0 |      1\n",
      "\n",
      "\n",
      "Order added: 0 - buy 50 at 99.75\n",
      "\n",
      "Current Order Book (Market Depth):\n",
      "  Bid Size |      Price |   Ask Size | Orders\n",
      "--------------------------------------------------\n",
      "         0 |      100.5 |         50 |      1\n",
      "         0 |     100.25 |         50 |      1\n",
      "         0 |        100 |         50 |      1\n",
      "        50 |      99.75 |          0 |      1\n",
      "        50 |       99.5 |          0 |      1\n",
      "        50 |         99 |          0 |      1\n",
      "\n",
      "\n",
      "Order added: 0 - sell 50 at 100.5\n",
      "\n",
      "Current Order Book (Market Depth):\n",
      "  Bid Size |      Price |   Ask Size | Orders\n",
      "--------------------------------------------------\n",
      "         0 |      100.5 |        100 |      2\n",
      "         0 |     100.25 |         50 |      1\n",
      "         0 |        100 |         50 |      1\n",
      "        50 |      99.75 |          0 |      1\n",
      "        50 |       99.5 |          0 |      1\n",
      "        50 |         99 |          0 |      1\n",
      "\n",
      "\n",
      "Order added: 0 - buy 50 at 99.5\n",
      "\n",
      "Current Order Book (Market Depth):\n",
      "  Bid Size |      Price |   Ask Size | Orders\n",
      "--------------------------------------------------\n",
      "         0 |      100.5 |        100 |      2\n",
      "         0 |     100.25 |         50 |      1\n",
      "         0 |        100 |         50 |      1\n",
      "        50 |      99.75 |          0 |      1\n",
      "       100 |       99.5 |          0 |      2\n",
      "        50 |         99 |          0 |      1\n",
      "\n",
      "\n"
     ]
    }
   ],
   "source": [
    "Book1.add_order(Buy50at99)\n",
    "Book1.add_order(Buy50at9950)\n",
    "Book1.add_order(Sell50at10050)\n",
    "Book1.add_order(Sell50at10025)\n",
    "Book1.add_order(Sell50at100)\n",
    "Book1.add_order(Buy50at9975)\n",
    "Book1.add_order(Sell50at10050)\n",
    "Book1.add_order(Buy50at9950)\n"
   ]
  },
  {
   "cell_type": "code",
   "execution_count": 8,
   "id": "f0572e89",
   "metadata": {},
   "outputs": [
    {
     "name": "stdout",
     "output_type": "stream",
     "text": [
      "Order added: 0 - buy 100 at 100\n",
      "Trade executed: 50 units at 100 (Bid: 100, Ask: 100)\n",
      "\n",
      "Current Order Book (Market Depth):\n",
      "  Bid Size |      Price |   Ask Size | Orders\n",
      "--------------------------------------------------\n",
      "         0 |      100.5 |        100 |      2\n",
      "         0 |     100.25 |         50 |      1\n",
      "        50 |        100 |          0 |      1\n",
      "        50 |      99.75 |          0 |      1\n",
      "       100 |       99.5 |          0 |      2\n",
      "        50 |         99 |          0 |      1\n",
      "\n",
      "\n"
     ]
    }
   ],
   "source": [
    "Book1.add_order(Buy100at100)"
   ]
  },
  {
   "cell_type": "markdown",
   "id": "0d37d904",
   "metadata": {},
   "source": [
    "Directly add an order object using add_order function"
   ]
  },
  {
   "cell_type": "code",
   "execution_count": null,
   "id": "b4fa38f7",
   "metadata": {},
   "outputs": [
    {
     "name": "stdout",
     "output_type": "stream",
     "text": [
      "Order added: 0 - sell 200 at 100.75\n",
      "\n",
      "Current Order Book (Market Depth):\n",
      "  Bid Size |      Price |   Ask Size | Orders\n",
      "--------------------------------------------------\n",
      "         0 |     100.75 |        200 |      1\n",
      "         0 |      100.5 |        100 |      2\n",
      "         0 |     100.25 |         50 |      1\n",
      "        50 |        100 |          0 |      1\n",
      "        50 |      99.75 |          0 |      1\n",
      "       100 |       99.5 |          0 |      2\n",
      "        50 |         99 |          0 |      1\n",
      "\n",
      "\n"
     ]
    }
   ],
   "source": [
    "Book1.add_order(\n",
    "     Order(\n",
    "        order_id=0,\n",
    "        side = 'sell',\n",
    "        price = 100.75,\n",
    "        quantity=200, \n",
    "        )\n",
    ")"
   ]
  }
 ],
 "metadata": {
  "kernelspec": {
   "display_name": "Python 3",
   "language": "python",
   "name": "python3"
  },
  "language_info": {
   "codemirror_mode": {
    "name": "ipython",
    "version": 3
   },
   "file_extension": ".py",
   "mimetype": "text/x-python",
   "name": "python",
   "nbconvert_exporter": "python",
   "pygments_lexer": "ipython3",
   "version": "3.13.4"
  }
 },
 "nbformat": 4,
 "nbformat_minor": 5
}
